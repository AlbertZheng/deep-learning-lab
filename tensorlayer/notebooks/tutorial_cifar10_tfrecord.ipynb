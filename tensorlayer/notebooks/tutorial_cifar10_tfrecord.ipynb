{
  "nbformat": 4,
  "nbformat_minor": 0,
  "metadata": {
    "colab": {
      "name": "Untitled0.ipynb",
      "version": "0.3.2",
      "provenance": [],
      "include_colab_link": true
    },
    "kernelspec": {
      "name": "python3",
      "display_name": "Python 3"
    }
  },
  "cells": [
    {
      "cell_type": "markdown",
      "metadata": {
        "id": "view-in-github",
        "colab_type": "text"
      },
      "source": [
        "[View in Colaboratory](https://colab.research.google.com/github/AlbertZheng/deep-learning-lab/blob/master/tensorlayer/notebooks/tutorial_cifar10_tfrecord.ipynb)"
      ]
    },
    {
      "metadata": {
        "id": "zYvgLpz0s7lI",
        "colab_type": "text"
      },
      "cell_type": "markdown",
      "source": [
        "## 安装依赖packages"
      ]
    },
    {
      "metadata": {
        "id": "4qOgBM9LsUEr",
        "colab_type": "code",
        "colab": {}
      },
      "cell_type": "code",
      "source": [
        "!pip install \"tensorlayer>=1.10\"\n"
      ],
      "execution_count": 0,
      "outputs": []
    },
    {
      "metadata": {
        "id": "OXCuT0b_tMmG",
        "colab_type": "text"
      },
      "cell_type": "markdown",
      "source": [
        "## 检测GPU"
      ]
    },
    {
      "metadata": {
        "id": "k6xg3mTYs64Y",
        "colab_type": "code",
        "colab": {}
      },
      "cell_type": "code",
      "source": [
        "import os\n",
        "import time\n",
        "import tensorflow as tf\n",
        "import tensorlayer as tl\n",
        "from tensorlayer.layers import *\n",
        "\n",
        "tf.logging.set_verbosity(tf.logging.DEBUG)\n",
        "tl.logging.set_verbosity(tl.logging.DEBUG)\n",
        "\n",
        "\n",
        "device_name = tf.test.gpu_device_name()\n",
        "if device_name != '/device:GPU:0':\n",
        "  raise SystemError('*** GPU device not found ***')\n",
        "print('### Found GPU at: {} ###'.format(device_name))\n",
        "\n",
        "# See https://www.tensorflow.org/tutorials/using_gpu#allowing_gpu_memory_growth\n",
        "config = tf.ConfigProto()\n",
        "config.gpu_options.allow_growth = True\n"
      ],
      "execution_count": 0,
      "outputs": []
    },
    {
      "metadata": {
        "id": "ej0VrZhRuE4H",
        "colab_type": "text"
      },
      "cell_type": "markdown",
      "source": [
        "## Download cifar10 data"
      ]
    },
    {
      "metadata": {
        "id": "Ek-6WH4nuIhx",
        "colab_type": "code",
        "colab": {}
      },
      "cell_type": "code",
      "source": [
        "# Download data, and convert to TFRecord format\n",
        "X_train, y_train, X_test, y_test = tl.files.load_cifar10_dataset(shape=(-1, 32, 32, 3), plotable=False)\n",
        "\n",
        "print('X_train.shape', X_train.shape)  # (50000, 32, 32, 3)\n",
        "print('y_train.shape', y_train.shape)  # (50000,)\n",
        "print('X_test.shape', X_test.shape)  # (10000, 32, 32, 3)\n",
        "print('y_test.shape', y_test.shape)  # (10000,)\n",
        "print('X %s   y %s' % (X_test.dtype, y_test.dtype))"
      ],
      "execution_count": 0,
      "outputs": []
    }
  ]
}