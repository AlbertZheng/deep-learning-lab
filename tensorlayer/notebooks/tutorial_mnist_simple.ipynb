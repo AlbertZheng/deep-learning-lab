{
 "cells": [
  {
   "cell_type": "code",
   "execution_count": null,
   "metadata": {
    "id": "view-in-github",
    "colab_type": "text"
   },
   "outputs": [],
   "source": [
    "[View in Colaboratory](https://colab.research.google.com/github/AlbertZheng/deep-learning-lab/blob/master/tensorlayer-lab/notebooks/tutorial_mnist_simple.ipynb)"
   ]
  },
  {
   "cell_type": "code",
   "execution_count": null,
   "metadata": {
    "id": "gQW-n1n8jS88",
    "colab_type": "code",
    "colab": {
     "base_uri": "https://localhost:8080/",
     "height": 7245.0
    },
    "outputId": "ba3c3e83-e93b-4994-8773-4a370d3c1700"
   },
   "outputs": [],
   "source": [
    "!pip install tensorlayer\n",
    "\n",
    "import tensorflow as tf\n",
    "import tensorlayer as tl\n",
    "\n",
    "\n",
    "# Confirm TensorFlow can see the GPU on Colaboratory\n",
    "device_name = tf.test.gpu_device_name()\n",
    "if device_name != '/device:GPU:0':\n",
    "  raise SystemError('GPU device not found')\n",
    "print('Found GPU at: {}'.format(device_name))\n",
    "\n",
    "\n",
    "#########################################################################\n",
    "# Testing matrix multiply using GPU\n",
    "#########################################################################\n",
    "#sess = tf.InteractiveSession()\n",
    "\n",
    "#a = tf.constant([1.0, 2.0, 3.0, 4.0, 5.0, 6.0], shape=[2, 3], name='a')\n",
    "#b = tf.constant([1.0, 2.0, 3.0, 4.0, 5.0, 6.0], shape=[3, 2], name='b')\n",
    "#c = tf.matmul(a, b)\n",
    "# Runs the op.\n",
    "#print(sess.run(c))\n",
    "\n",
    "#sess.close()\n",
    "#########################################################################\n",
    "\n",
    "\n",
    "tf.logging.set_verbosity(tf.logging.DEBUG)\n",
    "tl.logging.set_verbosity(tl.logging.DEBUG)\n",
    "\n",
    "#sess = tf.Session(config=tf.ConfigProto(log_device_placement=True))\n",
    "sess = tf.InteractiveSession()\n",
    "\n",
    "# prepare data\n",
    "X_train, y_train, X_val, y_val, X_test, y_test = tl.files.load_mnist_dataset(shape=(-1, 784))\n",
    "# define placeholder\n",
    "x = tf.placeholder(tf.float32, shape=[None, 784], name='x')\n",
    "y_ = tf.placeholder(tf.int64, shape=[None], name='y_')\n",
    "\n",
    "# define the network\n",
    "network = tl.layers.InputLayer(x, name='input')\n",
    "network = tl.layers.DropoutLayer(network, keep=0.8, name='drop1')\n",
    "network = tl.layers.DenseLayer(network, 800, tf.nn.relu, name='relu1')\n",
    "network = tl.layers.DropoutLayer(network, keep=0.5, name='drop2')\n",
    "network = tl.layers.DenseLayer(network, 800, tf.nn.relu, name='relu2')\n",
    "network = tl.layers.DropoutLayer(network, keep=0.5, name='drop3')\n",
    "# the softmax is implemented internally in tl.cost.cross_entropy(y, y_) to\n",
    "# speed up computation, so we use identity here.\n",
    "# see tf.nn.sparse_softmax_cross_entropy_with_logits()\n",
    "network = tl.layers.DenseLayer(network, n_units=10, act=None, name='output')\n",
    "\n",
    "# define cost function and metric.\n",
    "y = network.outputs\n",
    "cost = tl.cost.cross_entropy(y, y_, name='cost')\n",
    "correct_prediction = tf.equal(tf.argmax(y, 1), y_)\n",
    "acc = tf.reduce_mean(tf.cast(correct_prediction, tf.float32))\n",
    "y_op = tf.argmax(tf.nn.softmax(y), 1)\n",
    "\n",
    "# define the optimizer\n",
    "train_params = network.all_params\n",
    "train_op = tf.train.AdamOptimizer(learning_rate=0.0001).minimize(cost, var_list=train_params)\n",
    "\n",
    "# initialize all variables in the session\n",
    "tl.layers.initialize_global_variables(sess)\n",
    "\n",
    "# print network information\n",
    "network.print_params()\n",
    "network.print_layers()\n",
    "\n",
    "# train the network\n",
    "tl.utils.fit(sess, network, train_op, cost, X_train, y_train, x, y_, acc=acc, batch_size=500, \\\n",
    "    n_epoch=500, print_freq=5, X_val=X_val, y_val=y_val, eval_train=False)\n",
    "\n",
    "# evaluation\n",
    "tl.utils.test(sess, network, acc, X_test, y_test, x, y_, batch_size=None, cost=cost)\n",
    "\n",
    "# save the network to .npz file\n",
    "tl.files.save_npz(network.all_params, name='model.npz')\n",
    "\n",
    "sess.close()\n"
   ]
  }
 ],
 "metadata": {
  "colab": {
   "name": "tutorial_mnist_simple.ipynb",
   "version": "0.3.2",
   "provenance": [],
   "include_colab_link": true
  },
  "kernelspec": {
   "name": "python3",
   "display_name": "Python 3"
  },
  "accelerator": "GPU"
 },
 "nbformat": 4,
 "nbformat_minor": 0
}
